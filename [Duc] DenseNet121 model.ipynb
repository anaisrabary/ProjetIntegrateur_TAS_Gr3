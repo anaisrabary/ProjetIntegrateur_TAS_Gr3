{
 "cells": [
  {
   "cell_type": "markdown",
   "metadata": {},
   "source": [
    "## Fine-tune Inception V3 / DenseNet121"
   ]
  },
  {
   "cell_type": "markdown",
   "metadata": {},
   "source": [
    "- Fine-turn generator. Source: https://keras.io/applications/#fine-tune-inceptionv3-on-a-new-set-of-classes"
   ]
  },
  {
   "cell_type": "code",
   "execution_count": 39,
   "metadata": {},
   "outputs": [
    {
     "name": "stdout",
     "output_type": "stream",
     "text": [
      "Epoch 1/15\n",
      "171222/171222 [==============================] - 674s 4ms/step - loss: 0.6126\n",
      "Epoch 2/15\n",
      "171222/171222 [==============================] - 670s 4ms/step - loss: 0.5465\n",
      "Epoch 3/15\n",
      "171222/171222 [==============================] - 662s 4ms/step - loss: 0.5350\n",
      "Epoch 4/15\n",
      "171222/171222 [==============================] - 664s 4ms/step - loss: 0.5310\n",
      "Epoch 5/15\n",
      "171222/171222 [==============================] - 659s 4ms/step - loss: 0.5304\n",
      "Epoch 6/15\n",
      "171222/171222 [==============================] - 662s 4ms/step - loss: 0.5306\n",
      "Epoch 7/15\n",
      "171222/171222 [==============================] - 663s 4ms/step - loss: 0.5257\n",
      "Epoch 8/15\n",
      "171222/171222 [==============================] - 668s 4ms/step - loss: 0.5227\n",
      "Epoch 9/15\n",
      "171222/171222 [==============================] - 729s 4ms/step - loss: 0.5270\n",
      "Epoch 10/15\n",
      "171222/171222 [==============================] - 716s 4ms/step - loss: 0.5240\n",
      "Epoch 11/15\n",
      "171222/171222 [==============================] - 693s 4ms/step - loss: 0.5272\n",
      "Epoch 12/15\n",
      "171222/171222 [==============================] - 711s 4ms/step - loss: 0.5263\n",
      "Epoch 13/15\n",
      "171222/171222 [==============================] - 705s 4ms/step - loss: 0.5276\n",
      "Epoch 14/15\n",
      "171222/171222 [==============================] - 697s 4ms/step - loss: 0.5263\n",
      "Epoch 15/15\n",
      "171222/171222 [==============================] - 711s 4ms/step - loss: 0.5221\n"
     ]
    },
    {
     "data": {
      "text/plain": [
       "<keras.callbacks.History at 0x7f372170bb38>"
      ]
     },
     "execution_count": 39,
     "metadata": {},
     "output_type": "execute_result"
    }
   ],
   "source": [
    "from keras.applications.inception_v3 import InceptionV3\n",
    "from keras.applications.densenet import DenseNet121\n",
    "\n",
    "from keras.preprocessing import image\n",
    "from keras.models import Model\n",
    "from keras.layers import Dense, GlobalAveragePooling2D\n",
    "from keras import backend as K\n",
    "from keras.callbacks import TensorBoard\n",
    "\n",
    "import numpy as np\n",
    "from keras.utils import Sequence, to_categorical\n",
    "from keras.optimizers import SGD\n",
    "\n",
    "# create the base pre-trained model\n",
    "base_model = DenseNet121(weights='imagenet',\n",
    "                         input_shape = (32,32,3),\n",
    "                         include_top=False,\n",
    "                        classes=5)\n",
    "\n",
    "# add a global spatial average pooling layer\n",
    "x = base_model.output\n",
    "x = GlobalAveragePooling2D()(x)\n",
    "# let's add a fully-connected layer\n",
    "x = Dense(1024, activation='relu')(x)\n",
    "# and a logistic layer -- let's say we have 5 classes\n",
    "predictions = Dense(5, activation='softmax')(x)\n",
    "\n",
    "# this is the model we will train\n",
    "model = Model(inputs=base_model.input, outputs=predictions)\n",
    "\n",
    "# first: train only the top layers (which were randomly initialized)\n",
    "# i.e. freeze all convolutional InceptionV3 layers\n",
    "for layer in base_model.layers:\n",
    "    layer.trainable = False\n",
    "\n",
    "# compile the model (should be done *after* setting layers to non-trainable)\n",
    "model.compile(optimizer='rmsprop', loss='categorical_crossentropy')\n",
    "\n",
    "# dataset\n",
    "X = np.load('INSA_data_images/train_RGB_0_10_25.npy')\n",
    "Y = np.load('INSA_data_images/train_labels_0_10_25.npy')\n",
    "\n",
    "# Monitoring learning phase with tensorboard\n",
    "tensorboard = TensorBoard(log_dir=\"logs/{}\".format(time()))\n",
    "\n",
    "model.fit(x = X, y = Y, epochs=15, batch_size=64, verbose = 1, callbacks=[tensorboard])"
   ]
  },
  {
   "cell_type": "markdown",
   "metadata": {},
   "source": [
    "- Evaluate model"
   ]
  },
  {
   "cell_type": "code",
   "execution_count": 41,
   "metadata": {
    "scrolled": true
   },
   "outputs": [
    {
     "name": "stdout",
     "output_type": "stream",
     "text": [
      "42805/42805 [==============================] - 283s 7ms/step\n",
      "['loss', 'acc']  =  [0.930259363996051, 0.7683214621014189]\n"
     ]
    }
   ],
   "source": [
    "X_test = np.load('INSA_data_images/test_RGB_0_10_25.npy')\n",
    "Y_test = np.load('INSA_data_images/test_labels_0_10_25.npy')\n",
    "\n",
    "model.compile(loss='binary_crossentropy', optimizer='rmsprop', metrics=['accuracy'])\n",
    "score = model.evaluate(X_test, Y_test, verbose=1)\n",
    "print(model.metrics_names, \" = \", score)"
   ]
  },
  {
   "cell_type": "markdown",
   "metadata": {},
   "source": [
    "- Save model"
   ]
  },
  {
   "cell_type": "code",
   "execution_count": 40,
   "metadata": {},
   "outputs": [
    {
     "name": "stdout",
     "output_type": "stream",
     "text": [
      "Saved model to disk\n"
     ]
    }
   ],
   "source": [
    "model.save_weights(\"DucHau.h5\")\n",
    "print(\"Saved model to disk\")"
   ]
  },
  {
   "cell_type": "markdown",
   "metadata": {},
   "source": [
    "- Load model"
   ]
  },
  {
   "cell_type": "code",
   "execution_count": null,
   "metadata": {},
   "outputs": [],
   "source": [
    "# load weights into new model\n",
    "loaded_model.load_weights(\"DucHau.h5\")\n",
    "print(\"Loaded model from disk\")\n",
    " \n",
    "# evaluate loaded model on test data\n",
    "loaded_model.compile(loss='binary_crossentropy', optimizer='rmsprop', metrics=['accuracy'])\n",
    "score = loaded_model.evaluate(X, Y, verbose=0)"
   ]
  }
 ],
 "metadata": {
  "kernelspec": {
   "display_name": "Python 3",
   "language": "python",
   "name": "python3"
  },
  "language_info": {
   "codemirror_mode": {
    "name": "ipython",
    "version": 3
   },
   "file_extension": ".py",
   "mimetype": "text/x-python",
   "name": "python",
   "nbconvert_exporter": "python",
   "pygments_lexer": "ipython3",
   "version": "3.6.8"
  }
 },
 "nbformat": 4,
 "nbformat_minor": 2
}

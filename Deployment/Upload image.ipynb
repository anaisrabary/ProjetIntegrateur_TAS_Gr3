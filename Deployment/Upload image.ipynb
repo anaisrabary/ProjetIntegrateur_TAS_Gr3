{
 "cells": [
  {
   "cell_type": "code",
   "execution_count": 1,
   "metadata": {},
   "outputs": [],
   "source": [
    "from minio import Minio\n",
    "from minio.error import ResponseError\n",
    "from urllib3.exceptions import MaxRetryError\n",
    "from elasticsearch import Elasticsearch\n",
    "from elasticsearch.exceptions import ConnectionError\n",
    "import numpy as np\n",
    "import tempfile\n",
    "\n",
    "import cv2"
   ]
  },
  {
   "cell_type": "code",
   "execution_count": 29,
   "metadata": {},
   "outputs": [],
   "source": [
    "bucketName = 'train'\n",
    "bucketName2 = 'test'\n",
    "indexName = 'images'\n",
    "\n",
    "minioClient = Minio('localhost:9001', access_key='minio', secret_key='minio123', secure=False)\n",
    "es = Elasticsearch([{'host':'localhost','port':9200}])\n",
    "\n",
    "img_npy = np.load('../INSA_data_images/test-img[0].npy')"
   ]
  },
  {
   "cell_type": "code",
   "execution_count": 9,
   "metadata": {},
   "outputs": [
    {
     "data": {
      "text/plain": [
       "True"
      ]
     },
     "execution_count": 9,
     "metadata": {},
     "output_type": "execute_result"
    }
   ],
   "source": [
    "img_npy = img_npy * 300\n",
    "\n",
    "cv2.imwrite(\"test-img0.jpg\",img_npy)"
   ]
  },
  {
   "cell_type": "code",
   "execution_count": 28,
   "metadata": {},
   "outputs": [
    {
     "data": {
      "text/plain": [
       "[1, 0, 0, 0, 0]"
      ]
     },
     "execution_count": 28,
     "metadata": {},
     "output_type": "execute_result"
    }
   ],
   "source": [
    "[1,0,0,0,0]"
   ]
  },
  {
   "cell_type": "code",
   "execution_count": 32,
   "metadata": {},
   "outputs": [
    {
     "data": {
      "text/plain": [
       "{'_index': 'images',\n",
       " '_type': 'npy',\n",
       " '_id': '20',\n",
       " '_version': 1,\n",
       " 'result': 'created',\n",
       " '_shards': {'total': 2, 'successful': 1, 'failed': 0},\n",
       " '_seq_no': 3,\n",
       " '_primary_term': 1}"
      ]
     },
     "execution_count": 32,
     "metadata": {},
     "output_type": "execute_result"
    }
   ],
   "source": [
    "minioClient.fput_object(bucketName2, 'test-img0.jpg', 'test-img0.jpg')\n",
    "doc = {\n",
    "    'image':'localhost:9001/minio/'+bucketName2+'/'+'test-img0.jpg'\n",
    "}\n",
    "es.index(index=indexName, doc_type='npy', id=20, body=doc,request_timeout=60)"
   ]
  }
 ],
 "metadata": {
  "kernelspec": {
   "display_name": "Python 3",
   "language": "python",
   "name": "python3"
  },
  "language_info": {
   "codemirror_mode": {
    "name": "ipython",
    "version": 3
   },
   "file_extension": ".py",
   "mimetype": "text/x-python",
   "name": "python",
   "nbconvert_exporter": "python",
   "pygments_lexer": "ipython3",
   "version": "3.6.6"
  }
 },
 "nbformat": 4,
 "nbformat_minor": 2
}

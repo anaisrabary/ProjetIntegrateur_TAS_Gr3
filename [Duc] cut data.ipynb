{
 "cells": [
  {
   "cell_type": "code",
   "execution_count": 3,
   "metadata": {},
   "outputs": [],
   "source": [
    "import numpy as np\n",
    "\n",
    "testLabel= np.load('INSA_data_images/test_labels_0_10_25.npy')\n",
    "testRGB = np.load('INSA_data_images/test_RGB_0_10_25.npy')"
   ]
  },
  {
   "cell_type": "code",
   "execution_count": 5,
   "metadata": {},
   "outputs": [],
   "source": [
    "nb_data = testRGB.shape[0]\n",
    "\n",
    "np.save('INSA_data_images/test-img.npy', testRGB[:20])\n",
    "np.save('INSA_data_images/test-label.npy', testLabel[:20])"
   ]
  }
 ],
 "metadata": {
  "kernelspec": {
   "display_name": "Python 3",
   "language": "python",
   "name": "python3"
  },
  "language_info": {
   "codemirror_mode": {
    "name": "ipython",
    "version": 3
   },
   "file_extension": ".py",
   "mimetype": "text/x-python",
   "name": "python",
   "nbconvert_exporter": "python",
   "pygments_lexer": "ipython3",
   "version": "3.6.6"
  }
 },
 "nbformat": 4,
 "nbformat_minor": 2
}

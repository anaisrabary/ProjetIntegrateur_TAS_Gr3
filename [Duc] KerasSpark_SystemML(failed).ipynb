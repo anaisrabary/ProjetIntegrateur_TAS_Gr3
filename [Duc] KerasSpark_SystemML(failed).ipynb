{
 "cells": [
  {
   "cell_type": "markdown",
   "metadata": {},
   "source": [
    "# Deploy Keras in Spark"
   ]
  },
  {
   "cell_type": "code",
   "execution_count": 5,
   "metadata": {},
   "outputs": [
    {
     "ename": "SyntaxError",
     "evalue": "import * only allowed at module level (estimators.py, line 917)",
     "output_type": "error",
     "traceback": [
      "Traceback \u001b[0;36m(most recent call last)\u001b[0m:\n",
      "  File \u001b[1;32m\"/home/kihansi/miniconda3/envs/cert-big-data/lib/python3.6/site-packages/IPython/core/interactiveshell.py\"\u001b[0m, line \u001b[1;32m3267\u001b[0m, in \u001b[1;35mrun_code\u001b[0m\n    exec(code_obj, self.user_global_ns, self.user_ns)\n",
      "  File \u001b[1;32m\"<ipython-input-5-7627467947d2>\"\u001b[0m, line \u001b[1;32m4\u001b[0m, in \u001b[1;35m<module>\u001b[0m\n    imp()\n",
      "  File \u001b[1;32m\"<ipython-input-5-7627467947d2>\"\u001b[0m, line \u001b[1;32m3\u001b[0m, in \u001b[1;35mimp\u001b[0m\n    from systemml.mllearn import Keras2DML\n",
      "\u001b[0;36m  File \u001b[0;32m\"/home/kihansi/miniconda3/envs/cert-big-data/lib/python3.6/site-packages/systemml/mllearn/__init__.py\"\u001b[0;36m, line \u001b[0;32m45\u001b[0;36m, in \u001b[0;35m<module>\u001b[0;36m\u001b[0m\n\u001b[0;31m    from .estimators import *\u001b[0m\n",
      "\u001b[0;36m  File \u001b[0;32m\"/home/kihansi/miniconda3/envs/cert-big-data/lib/python3.6/site-packages/systemml/mllearn/estimators.py\"\u001b[0;36m, line \u001b[0;32m917\u001b[0m\n\u001b[0;31m    def __init__(self, sparkSession, keras_model, input_shape, transferUsingDF=False, load_keras_weights=True, weights=None, labels=None, batch_size=64, max_iter=2000, test_iter=10, test_interval=500, display=100, lr_policy=\"step\", weight_decay=5e-4, regularization_type=\"L2\"):\u001b[0m\n\u001b[0m    ^\u001b[0m\n\u001b[0;31mSyntaxError\u001b[0m\u001b[0;31m:\u001b[0m import * only allowed at module level\n"
     ]
    }
   ],
   "source": [
    "import keras\n",
    "from systemml.mllearn import Keras2DML"
   ]
  },
  {
   "cell_type": "markdown",
   "metadata": {},
   "source": [
    "Meta-paramètre"
   ]
  },
  {
   "cell_type": "code",
   "execution_count": null,
   "metadata": {},
   "outputs": [],
   "source": [
    "saved_model = \"DucHau.h5\""
   ]
  },
  {
   "cell_type": "markdown",
   "metadata": {},
   "source": [
    "Online training"
   ]
  },
  {
   "cell_type": "code",
   "execution_count": null,
   "metadata": {},
   "outputs": [],
   "source": [
    "epochs = 5\n",
    "batch_size = 100\n",
    "\n",
    "keras_model.load_weights(\"DucHau.h5\")\n",
    "parallel_model = Keras2DML(spark, keras_model)"
   ]
  },
  {
   "cell_type": "code",
   "execution_count": null,
   "metadata": {},
   "outputs": [],
   "source": []
  }
 ],
 "metadata": {
  "kernelspec": {
   "display_name": "Python 3",
   "language": "python",
   "name": "python3"
  },
  "language_info": {
   "codemirror_mode": {
    "name": "ipython",
    "version": 3
   },
   "file_extension": ".py",
   "mimetype": "text/x-python",
   "name": "python",
   "nbconvert_exporter": "python",
   "pygments_lexer": "ipython3",
   "version": "3.6.7"
  }
 },
 "nbformat": 4,
 "nbformat_minor": 2
}

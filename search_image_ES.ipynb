{
 "cells": [
  {
   "cell_type": "code",
   "execution_count": 1,
   "metadata": {},
   "outputs": [],
   "source": [
    "from minio import Minio\n",
    "from minio.error import ResponseError\n",
    "from urllib3.exceptions import MaxRetryError\n",
    "from elasticsearch import Elasticsearch\n",
    "from elasticsearch.exceptions import ConnectionError\n",
    "import numpy as np\n",
    "import tempfile\n",
    "\n",
    "from pyspark import SparkContext, SparkConf"
   ]
  },
  {
   "cell_type": "markdown",
   "metadata": {},
   "source": [
    "## Configuration la connection au Minio et Elastic Search"
   ]
  },
  {
   "cell_type": "code",
   "execution_count": 2,
   "metadata": {},
   "outputs": [],
   "source": [
    "bucketName = 'train'\n",
    "bucketName2 = 'test'\n",
    "indexName = 'images'\n",
    "\n",
    "minioClient = Minio('localhost:9001', access_key='minio', secret_key='minio123', secure=False)\n",
    "es = Elasticsearch([{'host':'localhost','port':9200}])"
   ]
  },
  {
   "cell_type": "code",
   "execution_count": null,
   "metadata": {},
   "outputs": [],
   "source": []
  },
  {
   "cell_type": "code",
   "execution_count": null,
   "metadata": {},
   "outputs": [],
   "source": []
  },
  {
   "cell_type": "code",
   "execution_count": null,
   "metadata": {},
   "outputs": [],
   "source": []
  },
  {
   "cell_type": "markdown",
   "metadata": {},
   "source": [
    "## Chercher dans Elastic Search"
   ]
  },
  {
   "cell_type": "code",
   "execution_count": 3,
   "metadata": {},
   "outputs": [],
   "source": [
    "key_word = 'forest'\n",
    "directory = 'test'"
   ]
  },
  {
   "cell_type": "code",
   "execution_count": 4,
   "metadata": {},
   "outputs": [],
   "source": [
    "result = es.search(index=directory, q='predict_label:' + key_word, filter_path='hits.hits._source',size=10)"
   ]
  },
  {
   "cell_type": "markdown",
   "metadata": {},
   "source": [
    "## Afficher images et ses attribut"
   ]
  },
  {
   "cell_type": "code",
   "execution_count": 5,
   "metadata": {},
   "outputs": [],
   "source": [
    "records = result['hits']['hits']"
   ]
  },
  {
   "cell_type": "code",
   "execution_count": 6,
   "metadata": {},
   "outputs": [
    {
     "data": {
      "text/plain": [
       "[{'_source': {'url': 's3a://test/test-img7.npy',\n",
       "   'name': 'test-img7.npy',\n",
       "   'test_label': 'forest',\n",
       "   'predict_label': 'forest',\n",
       "   'test_array': [0.0, 0.0, 1.0, 0.0, 0.0],\n",
       "   'predict_array': [0.00601671077311039,\n",
       "    0.047392837703228,\n",
       "    0.5142027735710144,\n",
       "    0.06994199752807617,\n",
       "    0.013775604777038097]}},\n",
       " {'_source': {'url': 's3a://test/test-img11.npy',\n",
       "   'name': 'test-img11.npy',\n",
       "   'test_label': 'agricultural_territory',\n",
       "   'predict_label': 'forest',\n",
       "   'test_array': [0.0, 1.0, 0.0, 0.0, 0.0],\n",
       "   'predict_array': [0.06451502442359924,\n",
       "    0.39509111642837524,\n",
       "    0.4295840561389923,\n",
       "    0.090579092502594,\n",
       "    0.04068891331553459]}},\n",
       " {'_source': {'url': 's3a://test/test-img8.npy',\n",
       "   'name': 'test-img8.npy',\n",
       "   'test_label': 'forest',\n",
       "   'predict_label': 'forest',\n",
       "   'test_array': [0.0, 0.0, 1.0, 0.0, 0.0],\n",
       "   'predict_array': [0.0024664762895554304,\n",
       "    0.030774887651205063,\n",
       "    0.569710910320282,\n",
       "    0.043337561190128326,\n",
       "    0.006072014570236206]}},\n",
       " {'_source': {'url': 's3a://test/test-img10.npy',\n",
       "   'name': 'test-img10.npy',\n",
       "   'test_label': 'forest',\n",
       "   'predict_label': 'forest',\n",
       "   'test_array': [0.0, 0.0, 1.0, 0.0, 0.0],\n",
       "   'predict_array': [0.00018105001072399318,\n",
       "    0.007111516315490007,\n",
       "    0.6750950813293457,\n",
       "    0.007909170351922512,\n",
       "    0.00043136414024047554]}},\n",
       " {'_source': {'url': 's3a://test/test-img2.npy',\n",
       "   'name': 'test-img2.npy',\n",
       "   'test_label': 'forest',\n",
       "   'predict_label': 'forest',\n",
       "   'test_array': [0.0, 0.0, 1.0, 0.0, 0.0],\n",
       "   'predict_array': [0.00010716116958064958,\n",
       "    0.005540409125387669,\n",
       "    0.7079358100891113,\n",
       "    0.004957849159836769,\n",
       "    0.00022510060807690024]}},\n",
       " {'_source': {'url': 's3a://test/test-img6.npy',\n",
       "   'name': 'test-img6.npy',\n",
       "   'test_label': 'forest',\n",
       "   'predict_label': 'forest',\n",
       "   'test_array': [0.0, 0.0, 1.0, 0.0, 0.0],\n",
       "   'predict_array': [0.00037512555718421936,\n",
       "    0.013535898178815842,\n",
       "    0.7011908292770386,\n",
       "    0.009804177097976208,\n",
       "    0.000593338452745229]}},\n",
       " {'_source': {'url': 's3a://test/test-img15.npy',\n",
       "   'name': 'test-img15.npy',\n",
       "   'test_label': 'forest',\n",
       "   'predict_label': 'forest',\n",
       "   'test_array': [0.0, 0.0, 1.0, 0.0, 0.0],\n",
       "   'predict_array': [0.0010003017960116267,\n",
       "    0.019362980499863625,\n",
       "    0.6346537470817566,\n",
       "    0.021243687719106674,\n",
       "    0.0020975531078875065]}}]"
      ]
     },
     "execution_count": 6,
     "metadata": {},
     "output_type": "execute_result"
    }
   ],
   "source": [
    "records"
   ]
  },
  {
   "cell_type": "code",
   "execution_count": 7,
   "metadata": {},
   "outputs": [
    {
     "name": "stdout",
     "output_type": "stream",
     "text": [
      "test-img7.npy\n"
     ]
    }
   ],
   "source": [
    "print(records[0]['_source']['name'])"
   ]
  },
  {
   "cell_type": "code",
   "execution_count": 8,
   "metadata": {},
   "outputs": [
    {
     "name": "stdout",
     "output_type": "stream",
     "text": [
      "<Object: bucket_name: test object_name: b'test-img7.npy' last_modified: time.struct_time(tm_year=2019, tm_mon=1, tm_mday=24, tm_hour=20, tm_min=11, tm_sec=32, tm_wday=3, tm_yday=24, tm_isdst=0) etag: 357ecd4d0339e6ccf18cfaaf8c5ec85e size: 24704 content_type: application/octet-stream, is_dir: False, metadata: {}>\n",
      "<Object: bucket_name: test object_name: b'test-img11.npy' last_modified: time.struct_time(tm_year=2019, tm_mon=1, tm_mday=24, tm_hour=20, tm_min=11, tm_sec=32, tm_wday=3, tm_yday=24, tm_isdst=0) etag: ea29d9c5942e9171883f7958d4f81980 size: 24704 content_type: application/octet-stream, is_dir: False, metadata: {}>\n",
      "<Object: bucket_name: test object_name: b'test-img8.npy' last_modified: time.struct_time(tm_year=2019, tm_mon=1, tm_mday=24, tm_hour=20, tm_min=11, tm_sec=32, tm_wday=3, tm_yday=24, tm_isdst=0) etag: 4f1fccddb2d12ba882c3d3f8ad91ed32 size: 24704 content_type: application/octet-stream, is_dir: False, metadata: {}>\n",
      "<Object: bucket_name: test object_name: b'test-img10.npy' last_modified: time.struct_time(tm_year=2019, tm_mon=1, tm_mday=24, tm_hour=20, tm_min=11, tm_sec=32, tm_wday=3, tm_yday=24, tm_isdst=0) etag: 096aa41b2ccac89e3316061ed4cf85e0 size: 24704 content_type: application/octet-stream, is_dir: False, metadata: {}>\n",
      "<Object: bucket_name: test object_name: b'test-img2.npy' last_modified: time.struct_time(tm_year=2019, tm_mon=1, tm_mday=24, tm_hour=20, tm_min=11, tm_sec=32, tm_wday=3, tm_yday=24, tm_isdst=0) etag: 6b8834e43236b9ddfff7737b1f05867c size: 24704 content_type: application/octet-stream, is_dir: False, metadata: {}>\n",
      "<Object: bucket_name: test object_name: b'test-img6.npy' last_modified: time.struct_time(tm_year=2019, tm_mon=1, tm_mday=24, tm_hour=20, tm_min=11, tm_sec=32, tm_wday=3, tm_yday=24, tm_isdst=0) etag: 47c058ac43caff9dc2caa423f6c8a6c5 size: 24704 content_type: application/octet-stream, is_dir: False, metadata: {}>\n",
      "<Object: bucket_name: test object_name: b'test-img15.npy' last_modified: time.struct_time(tm_year=2019, tm_mon=1, tm_mday=24, tm_hour=20, tm_min=11, tm_sec=33, tm_wday=3, tm_yday=24, tm_isdst=0) etag: b2aced1445fb09215dba85355e8a6f48 size: 24704 content_type: application/octet-stream, is_dir: False, metadata: {}>\n"
     ]
    }
   ],
   "source": [
    "for r in records:\n",
    "    print(minioClient.fget_object(directory, r['_source']['name'], '/tmp/'+r['_source']['name']))"
   ]
  },
  {
   "cell_type": "code",
   "execution_count": null,
   "metadata": {},
   "outputs": [],
   "source": [
    "conf = SparkConf()\n",
    "sc = SparkContext(conf=conf)\n",
    "\n",
    "b1 = sc.textFile('s3a://test/test-img6.npy')\n",
    "b1.collect()"
   ]
  }
 ],
 "metadata": {
  "kernelspec": {
   "display_name": "Python 3",
   "language": "python",
   "name": "python3"
  },
  "language_info": {
   "codemirror_mode": {
    "name": "ipython",
    "version": 3
   },
   "file_extension": ".py",
   "mimetype": "text/x-python",
   "name": "python",
   "nbconvert_exporter": "python",
   "pygments_lexer": "ipython3",
   "version": "3.6.6"
  }
 },
 "nbformat": 4,
 "nbformat_minor": 2
}
